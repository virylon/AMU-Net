{
 "cells": [
  {
   "cell_type": "code",
   "execution_count": 1,
   "metadata": {},
   "outputs": [],
   "source": [
    "import os\n",
    "import scipy.io\n",
    "import numpy as np\n",
    "import matplotlib.pyplot as plt\n",
    "from PIL import Image\n",
    "import os\n",
    "import numpy as np\n",
    "from osgeo import gdal"
   ]
  },
  {
   "attachments": {},
   "cell_type": "markdown",
   "metadata": {},
   "source": [
    "Generate samples from images"
   ]
  },
  {
   "cell_type": "code",
   "execution_count": 2,
   "metadata": {},
   "outputs": [],
   "source": [
    "gdal.AllRegister()\n",
    "\n",
    "def getData(raster):\n",
    "    raster = gdal.Open(raster)\n",
    "    cols = raster.RasterXSize\n",
    "    rows = raster.RasterYSize\n",
    "    bands = raster.RasterCount\n",
    "    datas=[]\n",
    "    for i in range(bands):\n",
    "        band = raster.GetRasterBand(i+1)\n",
    "        NoData = band.GetNoDataValue()\n",
    "        data = band.ReadAsArray(0, 0, cols, rows)\n",
    "        data[data==NoData]=0\n",
    "        datas.append(data)\n",
    "    datas=np.array(datas)\n",
    "    return datas\n",
    "\n",
    "image=getData('images\\Image.tif')[:3,:,:].transpose(1,2,0)\n",
    "dsm=getData('images\\dsm.tif').transpose(1,2,0)\n",
    "mask=getData('images\\mask.tif').transpose(1,2,0)\n",
    "mask[mask==2]=1 # Binary classification\n",
    "\n",
    "ps = 128  # patch size\n",
    "\n",
    "# sample\n",
    "for h in range(0, image.shape[0] - ps, int(ps / 2)):\n",
    "    for w in range(0, image.shape[1] - ps, int(ps / 2)):\n",
    "        if dsm[h, w, :] != 0:\n",
    "            img_patch = image[h : h + ps, w : w + ps, :]\n",
    "            mask_patch = mask[h : h + ps, w : w + ps, :]\n",
    "            dsm_patch = dsm[h : h + ps, w : w + ps, :]\n",
    "            img_patch = np.concatenate((img_patch, dsm_patch), -1)#使用DSM\n",
    "            patch_dict = {}\n",
    "            patch_dict[\"image\"] = img_patch\n",
    "            patch_dict[\"mask\"] = mask_patch\n",
    "            dict_name = \"%d_%d.mat\" % ( h, w)\n",
    "            scipy.io.savemat('dataset/samples/'+dict_name, patch_dict)\n"
   ]
  }
 ],
 "metadata": {
  "kernelspec": {
   "display_name": "DL",
   "language": "python",
   "name": "python3"
  },
  "language_info": {
   "codemirror_mode": {
    "name": "ipython",
    "version": 3
   },
   "file_extension": ".py",
   "mimetype": "text/x-python",
   "name": "python",
   "nbconvert_exporter": "python",
   "pygments_lexer": "ipython3",
   "version": "3.9.13"
  },
  "orig_nbformat": 4,
  "vscode": {
   "interpreter": {
    "hash": "026aef771cdece7d4ca7a23cca2deeae3225168292a3725ec3e32ae382352ee1"
   }
  }
 },
 "nbformat": 4,
 "nbformat_minor": 2
}
